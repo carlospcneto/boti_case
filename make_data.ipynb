{
 "cells": [
  {
   "cell_type": "markdown",
   "id": "4722fbc1",
   "metadata": {},
   "source": [
    "## Gerando dados falsos para inicio das pipelines"
   ]
  },
  {
   "cell_type": "code",
   "execution_count": 14,
   "id": "185b286d",
   "metadata": {},
   "outputs": [],
   "source": [
    "import random\n",
    "import pandas as pd\n",
    "\n",
    "def data_customer():\n",
    "    rows = []\n",
    "    for i in range(10000):\n",
    "        id = \"{:06d}\".format(i)\n",
    "        name = f\"Cliente {id}\"\n",
    "        seed = random.randint(0, 100)\n",
    "        email = f\"cliente_{id}@boti.com.br\" if seed < 75 else \"\"\n",
    "        created_at = \"2025-05-01T00:00:00Z\"\n",
    "        rows.append([id, name, email, created_at, seed])\n",
    "\n",
    "    df_customers = pd.DataFrame(rows, columns=[\"customer_id\", \"customer_name\", \"customer_email\", \"created_at\", \"seed\"])\n",
    "    df_customers.to_csv(\"data/raw/customers.csv\", index=False)\n",
    "\n",
    "def data_product():\n",
    "    rows = []\n",
    "    for i in range(10):\n",
    "        id = \"{:02d}\".format(i)\n",
    "        product_name = f\"Produto {id}\"\n",
    "        price = round(random.uniform(10.0, 100.0), 2)\n",
    "        rows.append([id, product_name, price])\n",
    "    df_products = pd.DataFrame(rows, columns=[\"product_id\", \"product_name\", \"product_price\"])\n",
    "    df_products.to_csv(\"data/raw/products.csv\", index=False)\n",
    "\n",
    "    return df_products\n",
    "\n",
    "def data_order(df_products):\n",
    "    rows = []\n",
    "    customer_ids = random.sample(range(10000), 500)\n",
    "    # d0 \n",
    "    for i in range(500):\n",
    "        id = \"{:09d}\".format(i)\n",
    "        customer_id = \"{:06d}\".format(customer_ids[i])\n",
    "        # Produtos diferentes\n",
    "        qt_products = random.randint(0,9)\n",
    "        products_ids = random.sample(range(10), qt_products)\n",
    "        order_date = f\"2025-05-01T{\"{:02d}\".format(int(9+(i//60)))}:{\"{:02d}\".format(int(i%60))}:00Z\"\n",
    "        for product_id in products_ids:\n",
    "            product_id = \"{:02d}\".format(product_id)                      \n",
    "            quantity = random.randint(1, 5)\n",
    "            price = df_products.loc[df_products['product_id'] == product_id, 'product_price'].values[0]            \n",
    "            rows.append([id, customer_id, product_id, price, quantity, order_date])\n",
    "    df_orders = pd.DataFrame(rows, columns=[\"order_id\", \"customer_id\", \"product_id\", \"product_price\", \"order_quantity\", \"order_date\"])\n",
    "    df_orders.to_csv(\"data/raw/orders.csv\", index=False)\n",
    "\n",
    "df_customers = data_customer()\n",
    "df_products = data_product()\n",
    "data_order(df_products)"
   ]
  }
 ],
 "metadata": {
  "kernelspec": {
   "display_name": ".venv",
   "language": "python",
   "name": "python3"
  },
  "language_info": {
   "codemirror_mode": {
    "name": "ipython",
    "version": 3
   },
   "file_extension": ".py",
   "mimetype": "text/x-python",
   "name": "python",
   "nbconvert_exporter": "python",
   "pygments_lexer": "ipython3",
   "version": "3.13.4"
  }
 },
 "nbformat": 4,
 "nbformat_minor": 5
}
