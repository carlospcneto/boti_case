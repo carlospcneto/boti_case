{
 "cells": [
  {
   "cell_type": "markdown",
   "id": "aece21ee",
   "metadata": {},
   "source": [
    "### Gerando dados fakes"
   ]
  },
  {
   "cell_type": "code",
   "execution_count": null,
   "id": "bb0598f5",
   "metadata": {},
   "outputs": [],
   "source": []
  },
  {
   "cell_type": "code",
   "execution_count": null,
   "id": "8bf40d48",
   "metadata": {},
   "outputs": [],
   "source": [
    "from kfp import dsl\n",
    "from kfp import compiler\n",
    "\n",
    "# maestro render \n",
    "@dsl.container_component\n",
    "def say_hello():\n",
    "    return dsl.ContainerSpec(image='alpine', command=['echo'], args=['Hello'])\n",
    "\n",
    "@dsl.pipeline\n",
    "def hello_pipeline():\n",
    "    say_hello()\n",
    "\n",
    "compiler.Compiler().compile(hello_pipeline, 'pipeline.yaml')"
   ]
  },
  {
   "cell_type": "code",
   "execution_count": 2,
   "id": "a31937c5",
   "metadata": {},
   "outputs": [],
   "source": [
    "from google.cloud import bigquery\n",
    "client = bigquery.Client(project='boti-project-cpcn')\n"
   ]
  },
  {
   "cell_type": "code",
   "execution_count": null,
   "id": "fc897037",
   "metadata": {},
   "outputs": [],
   "source": []
  }
 ],
 "metadata": {
  "kernelspec": {
   "display_name": ".venv",
   "language": "python",
   "name": "python3"
  },
  "language_info": {
   "codemirror_mode": {
    "name": "ipython",
    "version": 3
   },
   "file_extension": ".py",
   "mimetype": "text/x-python",
   "name": "python",
   "nbconvert_exporter": "python",
   "pygments_lexer": "ipython3",
   "version": "3.13.4"
  }
 },
 "nbformat": 4,
 "nbformat_minor": 5
}
